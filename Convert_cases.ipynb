{
 "cells": [
  {
   "cell_type": "code",
   "execution_count": 3,
   "metadata": {},
   "outputs": [
    {
     "name": "stdout",
     "output_type": "stream",
     "text": [
      "Excel data has been converted to JSON and saved to Cases.json\n"
     ]
    }
   ],
   "source": [
    "import pandas as pd\n",
    "\n",
    "# Load the Excel file\n",
    "excel_file = 'Dataset.xlsx'  # Replace with your Excel file path\n",
    "sheet_name = 'Sheet1'          # Replace with your sheet name if necessary\n",
    "\n",
    "# Read the Excel file into a DataFrame\n",
    "df = pd.read_excel(excel_file, sheet_name=sheet_name)\n",
    "\n",
    "# Convert the DataFrame to JSON format\n",
    "json_data = df.to_json(orient='records', lines=True)\n",
    "\n",
    "# Save the JSON data to a file\n",
    "json_file = 'Cases.json'  # Replace with your desired JSON file name\n",
    "with open(json_file, 'w') as file:\n",
    "    file.write(json_data)\n",
    "\n",
    "print(f\"Excel data has been converted to JSON and saved to {json_file}\")\n"
   ]
  },
  {
   "cell_type": "code",
   "execution_count": 5,
   "metadata": {},
   "outputs": [
    {
     "name": "stdout",
     "output_type": "stream",
     "text": [
      "JSON Lines converted to standard JSON array with keys and saved to Cases_array.json\n"
     ]
    }
   ],
   "source": [
    "import json\n",
    "\n",
    "# Load the JSON Lines file\n",
    "json_file = 'Cases.json'  # Replace with your JSON Lines file path\n",
    "with open(json_file, 'r') as file:\n",
    "    data = [json.loads(line) for line in file]\n",
    "\n",
    "# Add a unique \"Key\" to each entry and retain null for missing definitions\n",
    "processed_data = []\n",
    "for i, entry in enumerate(data):\n",
    "    processed_entry = {\n",
    "        \"Key\": i + 1,  # Unique key starting from 1\n",
    "        \"case\": entry.get(\"Cases\"),\n",
    "        \"definition\": entry.get(\"Definition\")\n",
    "    }\n",
    "    processed_data.append(processed_entry)\n",
    "\n",
    "# Save as a standard JSON array with the \"Key\" element\n",
    "output_file = 'Cases_array.json'  # Desired output file name\n",
    "with open(output_file, 'w') as file:\n",
    "    json.dump(processed_data, file, indent=4)\n",
    "\n",
    "print(f\"JSON Lines converted to standard JSON array with keys and saved to {output_file}\")\n",
    "\n"
   ]
  }
 ],
 "metadata": {
  "kernelspec": {
   "display_name": "Python 3",
   "language": "python",
   "name": "python3"
  },
  "language_info": {
   "codemirror_mode": {
    "name": "ipython",
    "version": 3
   },
   "file_extension": ".py",
   "mimetype": "text/x-python",
   "name": "python",
   "nbconvert_exporter": "python",
   "pygments_lexer": "ipython3",
   "version": "3.11.5"
  }
 },
 "nbformat": 4,
 "nbformat_minor": 2
}
